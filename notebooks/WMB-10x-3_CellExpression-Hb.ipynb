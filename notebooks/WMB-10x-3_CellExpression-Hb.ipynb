{
 "cells": [
  {
   "cell_type": "code",
   "execution_count": null,
   "metadata": {},
   "outputs": [],
   "source": [
    "# Adapted from example notebooks provided at: https://alleninstitute.github.io/abc_atlas_access/intro.html\n",
    "\n",
    "import pandas as pd\n",
    "import numpy as np\n",
    "import anndata\n",
    "from pathlib import Path\n",
    "import matplotlib.pyplot as plt\n",
    "import time\n",
    "\n",
    "from abc_atlas_access.abc_atlas_cache.abc_project_cache import AbcProjectCache"
   ]
  },
  {
   "cell_type": "code",
   "execution_count": null,
   "metadata": {},
   "outputs": [],
   "source": [
    "basePath = 'Z:\\\\Common\\\\Transcriptomics\\\\ABC_Atlas' # Change to relevant folder path\n",
    "download_base = Path(basePath)\n",
    "abc_cache = AbcProjectCache.from_cache_dir(download_base)\n",
    "\n",
    "abc_cache.current_manifest"
   ]
  },
  {
   "cell_type": "code",
   "execution_count": null,
   "metadata": {},
   "outputs": [],
   "source": [
    "cell = abc_cache.get_metadata_dataframe(directory='WMB-10X', file_name='cell_metadata_with_cluster_annotation')\n",
    "cell.set_index('cell_label',inplace=True)"
   ]
  },
  {
   "cell_type": "code",
   "execution_count": null,
   "metadata": {},
   "outputs": [],
   "source": [
    "matrices = cell.groupby(['dataset_label', 'feature_matrix_label'])[['library_label']].count()\n",
    "matrices.columns  = ['cell_count']\n",
    "matrices"
   ]
  },
  {
   "cell_type": "code",
   "execution_count": null,
   "metadata": {},
   "outputs": [],
   "source": [
    "abc_cache.list_data_files('WMB-10XMulti')"
   ]
  },
  {
   "cell_type": "code",
   "execution_count": null,
   "metadata": {},
   "outputs": [],
   "source": [
    "file = abc_cache.get_data_path(directory='WMB-10XMulti', file_name='WMB-10XMulti/log2')\n",
    "print(file)"
   ]
  },
  {
   "cell_type": "code",
   "execution_count": null,
   "metadata": {},
   "outputs": [],
   "source": [
    "ad = anndata.read_h5ad(file,backed='r')\n",
    "gene = ad.var"
   ]
  },
  {
   "cell_type": "code",
   "execution_count": null,
   "metadata": {},
   "outputs": [],
   "source": [
    "df = pd.read_csv(basePath + '\\\\input\\\\WMB_genes_Hb_new.csv')\n",
    "gn = df['gene_symbol'].tolist()\n",
    "pred = [x in gn for x in gene.gene_symbol]\n",
    "gene_filtered = gene[pred]\n",
    "print(\"Number of selected genes = \", len(gn))\n",
    "gene_filtered"
   ]
  },
  {
   "cell_type": "code",
   "execution_count": null,
   "metadata": {},
   "outputs": [],
   "source": [
    "# create empty gene expression dataframe\n",
    "gdata = pd.DataFrame(index=cell.index, columns=gene_filtered.index)\n",
    "count = 0\n",
    "total_start = time.process_time()\n",
    "\n",
    "for matindex in matrices.index:\n",
    "    \n",
    "    ds = matindex[0]\n",
    "    mp = matindex[1]\n",
    "    \n",
    "    print(mp)\n",
    "    \n",
    "    file = abc_cache.get_data_path(directory=ds, file_name=mp + '/log2')\n",
    "    \n",
    "    pred = (cell['feature_matrix_label'] == mp)\n",
    "    cell_filtered = cell[pred]\n",
    "    \n",
    "    start = time.process_time()\n",
    "    ad = anndata.read_h5ad(file, backed='r')\n",
    "    exp = ad[cell_filtered.index, gene_filtered.index].to_df()\n",
    "    gdata.loc[ exp.index, gene_filtered.index ] = exp\n",
    "    print(\" - time taken: \", time.process_time() - start)\n",
    "    \n",
    "    ad.file.close()\n",
    "    del ad\n",
    "    \n",
    "    count += 1\n",
    "    \n",
    "#    if count > 2 :\n",
    "#       break\n",
    "        \n",
    "print(\"total time taken: \", time.process_time() - total_start)\n",
    "    "
   ]
  },
  {
   "cell_type": "code",
   "execution_count": null,
   "metadata": {},
   "outputs": [],
   "source": [
    "# change columns from index to gene symbol\n",
    "gdata.columns = gene_filtered.gene_symbol\n",
    "pred = pd.notna(gdata[gdata.columns[0]])\n",
    "gdata = gdata[pred].copy(deep=True)\n",
    "gdata = gdata[gn]\n",
    "print(len(gdata))\n",
    "gdata"
   ]
  },
  {
   "cell_type": "code",
   "execution_count": null,
   "metadata": {},
   "outputs": [],
   "source": [
    "def aggregate_by_metadata(df, gnames, value, sort = False):\n",
    "    grouped = df.groupby(value)[gn].mean()\n",
    "    if sort:\n",
    "        grouped = grouped.sort_values(by=gn[0], ascending=False)\n",
    "    return grouped"
   ]
  },
  {
   "cell_type": "code",
   "execution_count": null,
   "metadata": {},
   "outputs": [],
   "source": [
    "def plot_umap(xx, yy, cc=None, val=None, fig_width=8, fig_height=8, cmap=None):\n",
    "    \n",
    "    fig, ax = plt.subplots()\n",
    "    fig.set_size_inches(fig_width, fig_height)\n",
    "    \n",
    "    if cmap is not None :\n",
    "        plt.scatter(xx, yy, s=0.5, c=val, marker='.', cmap=cmap)\n",
    "    elif cc is not None :\n",
    "        plt.scatter(xx, yy, s=0.5, color=cc, marker='.')\n",
    "        \n",
    "    ax.axis('equal')\n",
    "    ax.set_xlim(-18, 27)\n",
    "    ax.set_ylim(-18, 27)\n",
    "    ax.set_xticks([])\n",
    "    ax.set_yticks([])\n",
    "    \n",
    "    return fig, ax"
   ]
  },
  {
   "cell_type": "code",
   "execution_count": null,
   "metadata": {},
   "outputs": [],
   "source": [
    "def plot_heatmap(df, fig_width=8, fig_height=4, cmap=plt.cm.magma_r):\n",
    "\n",
    "    arr = df.to_numpy(dtype='float')\n",
    "\n",
    "    fig, ax = plt.subplots()\n",
    "    fig.set_size_inches(fig_width, fig_height)\n",
    "\n",
    "    im = ax.imshow(arr, cmap=cmap, aspect='auto', vmin=0, vmax=6)\n",
    "    xlabs = df.columns.values\n",
    "    ylabs = df.index.values\n",
    "\n",
    "    ax.set_xticks(range(len(xlabs)))\n",
    "    ax.set_xticklabels(xlabs)\n",
    "\n",
    "    ax.set_yticks(range(len(ylabs)))\n",
    "    res = ax.set_yticklabels(ylabs)\n",
    "    \n",
    "    return im"
   ]
  },
  {
   "cell_type": "code",
   "execution_count": null,
   "metadata": {},
   "outputs": [],
   "source": [
    "# Filter cell dataframe to cells of interest\n",
    "cs = [\"17 MH-LH Glut\"] # class\n",
    "CL = cell[cell['class'].isin(cs)]\n",
    "print(\"Number of cells = \", len(CL))\n",
    "CL.head(5)"
   ]
  },
  {
   "cell_type": "code",
   "execution_count": null,
   "metadata": {},
   "outputs": [],
   "source": [
    "# Filter gdata dataframe to cells of interest\n",
    "GD = gdata[cell['class'].isin(cs)]\n",
    "print(\"Number of cells = \", len(GD))\n",
    "GD.head(5)"
   ]
  },
  {
   "cell_type": "code",
   "execution_count": null,
   "metadata": {},
   "outputs": [],
   "source": [
    "# Export metadata and gene expression:\n",
    "CL.to_csv(basePath + '\\\\output\\\\Hb-new_CL_metadata.csv')\n",
    "GD.to_csv(basePath + '\\\\output\\\\Hb-new_GD_expression.csv') "
   ]
  },
  {
   "cell_type": "code",
   "execution_count": null,
   "metadata": {},
   "outputs": [],
   "source": []
  }
 ],
 "metadata": {
  "kernelspec": {
   "display_name": "Python 3 (ipykernel)",
   "language": "python",
   "name": "python3"
  },
  "language_info": {
   "codemirror_mode": {
    "name": "ipython",
    "version": 3
   },
   "file_extension": ".py",
   "mimetype": "text/x-python",
   "name": "python",
   "nbconvert_exporter": "python",
   "pygments_lexer": "ipython3",
   "version": "3.12.11"
  }
 },
 "nbformat": 4,
 "nbformat_minor": 4
}
