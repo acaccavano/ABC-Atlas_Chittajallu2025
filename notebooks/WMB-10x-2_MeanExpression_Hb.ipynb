{
 "cells": [
  {
   "cell_type": "code",
   "execution_count": null,
   "id": "a9783a37-6722-45d5-b2ea-ab1e6cbf0835",
   "metadata": {},
   "outputs": [],
   "source": [
    "# Adapted from example notebooks provided at: https://alleninstitute.github.io/abc_atlas_access/intro.html\n",
    "\n",
    "import pandas as pd\n",
    "import numpy as np\n",
    "import anndata\n",
    "from pathlib import Path\n",
    "import matplotlib.pyplot as plt\n",
    "import time\n",
    "\n",
    "from abc_atlas_access.abc_atlas_cache.abc_project_cache import AbcProjectCache\n",
    "from abc_atlas_access.abc_atlas_cache.anndata_utils import get_gene_data"
   ]
  },
  {
   "cell_type": "code",
   "execution_count": null,
   "id": "a2a6ff95-0923-4083-921c-b7cb0165ae70",
   "metadata": {},
   "outputs": [],
   "source": [
    "basePath = 'Z:\\\\Common\\\\Transcriptomics\\\\ABC_Atlas' # Change to relevant folder path\n",
    "download_base = Path(basePath)\n",
    "abc_cache = AbcProjectCache.from_cache_dir(download_base)\n",
    "\n",
    "abc_cache.current_manifest"
   ]
  },
  {
   "cell_type": "code",
   "execution_count": null,
   "id": "f32b690d-b6b7-463e-90c0-4b6a8a3ce466",
   "metadata": {},
   "outputs": [],
   "source": [
    "cell = abc_cache.get_metadata_dataframe(directory='WMB-10X', file_name='cell_metadata_with_cluster_annotation')\n",
    "cell.set_index('cell_label', inplace=True)\n",
    "print(\"Number of cells = \", len(cell))"
   ]
  },
  {
   "cell_type": "code",
   "execution_count": null,
   "id": "36418de8-139d-49e0-a49b-2b351db18ea1",
   "metadata": {},
   "outputs": [],
   "source": [
    "# Filter cell dataframe to cells of interest\n",
    "cs = [\"17 MH-LH Glut\"] # class\n",
    "CL = cell[cell['class'].isin(cs)]\n",
    "print(\"Number of cells = \", len(CL))\n",
    "CL.head(5)"
   ]
  },
  {
   "cell_type": "code",
   "execution_count": null,
   "id": "f1878808-f8a8-4d65-9a30-02fdcb54c801",
   "metadata": {},
   "outputs": [],
   "source": [
    "matrices = cell.groupby(['dataset_label', 'feature_matrix_label'])[['library_label']].count()\n",
    "matrices.columns  = ['cell_count']\n",
    "matrices"
   ]
  },
  {
   "cell_type": "code",
   "execution_count": null,
   "id": "f00ae9f4-9ff2-484e-a5f7-65d51df34c56",
   "metadata": {},
   "outputs": [],
   "source": [
    "matrices = CL.groupby(['dataset_label', 'feature_matrix_label'])[['library_label']].count()\n",
    "matrices.columns  = ['CL_count']\n",
    "matrices"
   ]
  },
  {
   "cell_type": "code",
   "execution_count": null,
   "id": "63f8faf8-7860-4f39-bdd1-861d4d2c641d",
   "metadata": {},
   "outputs": [],
   "source": [
    "gene = abc_cache.get_metadata_dataframe(directory='WMB-10X', file_name='gene')\n",
    "gene.set_index('gene_identifier', inplace=True)\n",
    "print(\"Number of genes = \", len(gene))\n",
    "gene"
   ]
  },
  {
   "cell_type": "code",
   "execution_count": null,
   "id": "673b81d3-f52f-4d51-8d7d-84564e794f55",
   "metadata": {},
   "outputs": [],
   "source": [
    "df = pd.read_csv(basePath + '\\\\input\\\\WMB_genes_Hb.csv')\n",
    "gn = df['gene_symbol'].tolist()\n",
    "print(\"Number of selected genes = \", len(gn))\n",
    "gn"
   ]
  },
  {
   "cell_type": "code",
   "execution_count": null,
   "id": "a2f1a671-9f3e-4933-9ed6-29246f92366c",
   "metadata": {},
   "outputs": [],
   "source": [
    "gene_data = get_gene_data(\n",
    "    abc_atlas_cache = abc_cache,\n",
    "    all_cells = CL,\n",
    "    all_genes = gene,\n",
    "    selected_genes = gn\n",
    ")"
   ]
  },
  {
   "cell_type": "code",
   "execution_count": null,
   "id": "40255baf-5e2c-4428-afa9-44628d6761d1",
   "metadata": {},
   "outputs": [],
   "source": [
    "gene_data[pd.notna(gene_data[gene_data.columns[0]])]\n",
    "gene_data = gene_data[gn]\n",
    "gene_data"
   ]
  },
  {
   "cell_type": "code",
   "execution_count": null,
   "id": "3827c4a2-d79c-49df-8eb7-86451742882d",
   "metadata": {},
   "outputs": [],
   "source": [
    "CL_with_genes = CL.join(gene_data)\n",
    "CL_with_genes"
   ]
  },
  {
   "cell_type": "code",
   "execution_count": null,
   "id": "1af11ee0-6c0a-481a-b275-0cb4946f05e5",
   "metadata": {},
   "outputs": [],
   "source": [
    "def aggregate_by_metadata(df, gnames, value, sort = False):\n",
    "\n",
    "    # Logic to show groups above the entered one:\n",
    "    if (value == \"cluster\"):\n",
    "        value = [\"class\", \"subclass\", \"supertype\", \"cluster\"]\n",
    "    elif (value == \"supertype\"):\n",
    "        value = [\"class\", \"subclass\", \"supertype\"]\n",
    "    elif (value == \"subclass\"):\n",
    "        value = [\"class\", \"subclass\"]\n",
    "\n",
    "    grouped = df.groupby(value)[gnames].mean()\n",
    "    if sort:\n",
    "        grouped = grouped.sort_values(by=gnames[0], ascending=False)\n",
    "    return grouped"
   ]
  },
  {
   "cell_type": "code",
   "execution_count": null,
   "id": "c9e96a3e-bd2f-4b13-a08e-b99c3fba7a8f",
   "metadata": {},
   "outputs": [],
   "source": [
    "def plot_heatmap(df, fig_width=14, fig_height=10, cmap=plt.cm.magma_r) :\n",
    "\n",
    "    arr = df.to_numpy(dtype='float')\n",
    "\n",
    "    fig, ax = plt.subplots()\n",
    "    fig.set_size_inches(fig_width, fig_height)\n",
    "\n",
    "    im = ax.imshow(arr, cmap=cmap, aspect='auto', vmin=0, vmax=6)\n",
    "    xlabs = df.columns.values\n",
    "    ylabs = df.index.values\n",
    "    #xlabs = df.index.values\n",
    "    #ylabs = df.columns.values\n",
    "\n",
    "    ax.set_xticks(range(len(xlabs)))\n",
    "    ax.set_xticklabels(xlabs)\n",
    "\n",
    "    ax.set_yticks(range(len(ylabs)))\n",
    "    res = ax.set_yticklabels(ylabs)\n",
    "    \n",
    "    return im"
   ]
  },
  {
   "cell_type": "code",
   "execution_count": null,
   "id": "fbcbddbc-b927-4b3f-a8bd-99c40bf3e67b",
   "metadata": {},
   "outputs": [],
   "source": [
    "agg = aggregate_by_metadata(CL_with_genes, gene_data.columns, 'subclass')\n",
    "res = plot_heatmap(agg, 14, 14)\n",
    "agg.to_csv(basePath + '\\\\output\\\\Hb_Subclass_AveExpressionMarkers.csv') \n",
    "plt.show()"
   ]
  },
  {
   "cell_type": "code",
   "execution_count": null,
   "id": "ec6612ae-f90f-4689-a963-68732333daa3",
   "metadata": {},
   "outputs": [],
   "source": [
    "agg = aggregate_by_metadata(CL_with_genes, gene_data.columns, 'supertype')\n",
    "res = plot_heatmap(agg, 14, 14)\n",
    "agg.to_csv(basePath + '\\\\output\\\\Hb_Supertype_AveExpressionMarkers.csv') \n",
    "plt.show()"
   ]
  },
  {
   "cell_type": "code",
   "execution_count": null,
   "id": "17940412-b160-4930-90db-21ef7bb2cd09",
   "metadata": {},
   "outputs": [],
   "source": [
    "agg = aggregate_by_metadata(CL_with_genes, gene_data.columns, 'cluster')\n",
    "res = plot_heatmap(agg, 14, 14)\n",
    "agg.to_csv(basePath + '\\\\output\\\\Hb_Cluster_AveExpressionMarkers.csv') \n",
    "plt.show()"
   ]
  },
  {
   "cell_type": "code",
   "execution_count": null,
   "id": "fa7ae6d6-2deb-4f91-a6a6-e218a5069b07",
   "metadata": {},
   "outputs": [],
   "source": [
    "Counts = CL['subclass'].value_counts()\n",
    "Counts.to_csv(basePath + '\\\\output\\\\Subclass_Counts.csv') \n",
    "Counts = CL['supertype'].value_counts()\n",
    "Counts.to_csv(basePath + '\\\\output\\\\Supertype_Counts.csv')\n",
    "Counts = CL['cluster'].value_counts()\n",
    "Counts.to_csv(basePath + '\\\\output\\\\Cluster_Counts.csv') "
   ]
  }
 ],
 "metadata": {
  "kernelspec": {
   "display_name": "Python 3 (ipykernel)",
   "language": "python",
   "name": "python3"
  },
  "language_info": {
   "codemirror_mode": {
    "name": "ipython",
    "version": 3
   },
   "file_extension": ".py",
   "mimetype": "text/x-python",
   "name": "python",
   "nbconvert_exporter": "python",
   "pygments_lexer": "ipython3",
   "version": "3.12.11"
  }
 },
 "nbformat": 4,
 "nbformat_minor": 5
}
